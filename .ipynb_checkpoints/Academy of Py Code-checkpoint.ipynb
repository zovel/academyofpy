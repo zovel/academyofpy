{
 "cells": [
  {
   "cell_type": "code",
   "execution_count": 32,
   "metadata": {},
   "outputs": [],
   "source": [
    "import pandas as pd\n",
    "import numpy as np\n",
    "\n",
    "#Load CSV\n",
    "school_data_to_load = \"schools_complete.csv\"\n",
    "student_data_to_load = \"students_complete.csv\"\n",
    "\n",
    "# Read School and Student Data File and store into Pandas Data Frames\n",
    "school_data = pd.read_csv(school_data_to_load)\n",
    "student_data = pd.read_csv(student_data_to_load)\n",
    "\n",
    "# Combine the data into a single dataset\n",
    "school_data_complete = pd.merge(student_data, school_data, how=\"left\", on=[\"school_name\", \"school_name\"])"
   ]
  },
  {
   "cell_type": "code",
   "execution_count": 33,
   "metadata": {},
   "outputs": [
    {
     "data": {
      "text/html": [
       "<div>\n",
       "<style scoped>\n",
       "    .dataframe tbody tr th:only-of-type {\n",
       "        vertical-align: middle;\n",
       "    }\n",
       "\n",
       "    .dataframe tbody tr th {\n",
       "        vertical-align: top;\n",
       "    }\n",
       "\n",
       "    .dataframe thead th {\n",
       "        text-align: right;\n",
       "    }\n",
       "</style>\n",
       "<table border=\"1\" class=\"dataframe\">\n",
       "  <thead>\n",
       "    <tr style=\"text-align: right;\">\n",
       "      <th></th>\n",
       "      <th>Student ID</th>\n",
       "      <th>student_name</th>\n",
       "      <th>gender</th>\n",
       "      <th>grade</th>\n",
       "      <th>school_name</th>\n",
       "      <th>reading_score</th>\n",
       "      <th>math_score</th>\n",
       "      <th>School ID</th>\n",
       "      <th>type</th>\n",
       "      <th>size</th>\n",
       "      <th>budget</th>\n",
       "    </tr>\n",
       "  </thead>\n",
       "  <tbody>\n",
       "    <tr>\n",
       "      <th>0</th>\n",
       "      <td>0</td>\n",
       "      <td>Paul Bradley</td>\n",
       "      <td>M</td>\n",
       "      <td>9th</td>\n",
       "      <td>Huang High School</td>\n",
       "      <td>66</td>\n",
       "      <td>79</td>\n",
       "      <td>0</td>\n",
       "      <td>District</td>\n",
       "      <td>2917</td>\n",
       "      <td>1910635</td>\n",
       "    </tr>\n",
       "    <tr>\n",
       "      <th>1</th>\n",
       "      <td>1</td>\n",
       "      <td>Victor Smith</td>\n",
       "      <td>M</td>\n",
       "      <td>12th</td>\n",
       "      <td>Huang High School</td>\n",
       "      <td>94</td>\n",
       "      <td>61</td>\n",
       "      <td>0</td>\n",
       "      <td>District</td>\n",
       "      <td>2917</td>\n",
       "      <td>1910635</td>\n",
       "    </tr>\n",
       "    <tr>\n",
       "      <th>2</th>\n",
       "      <td>2</td>\n",
       "      <td>Kevin Rodriguez</td>\n",
       "      <td>M</td>\n",
       "      <td>12th</td>\n",
       "      <td>Huang High School</td>\n",
       "      <td>90</td>\n",
       "      <td>60</td>\n",
       "      <td>0</td>\n",
       "      <td>District</td>\n",
       "      <td>2917</td>\n",
       "      <td>1910635</td>\n",
       "    </tr>\n",
       "    <tr>\n",
       "      <th>3</th>\n",
       "      <td>3</td>\n",
       "      <td>Dr. Richard Scott</td>\n",
       "      <td>M</td>\n",
       "      <td>12th</td>\n",
       "      <td>Huang High School</td>\n",
       "      <td>67</td>\n",
       "      <td>58</td>\n",
       "      <td>0</td>\n",
       "      <td>District</td>\n",
       "      <td>2917</td>\n",
       "      <td>1910635</td>\n",
       "    </tr>\n",
       "    <tr>\n",
       "      <th>4</th>\n",
       "      <td>4</td>\n",
       "      <td>Bonnie Ray</td>\n",
       "      <td>F</td>\n",
       "      <td>9th</td>\n",
       "      <td>Huang High School</td>\n",
       "      <td>97</td>\n",
       "      <td>84</td>\n",
       "      <td>0</td>\n",
       "      <td>District</td>\n",
       "      <td>2917</td>\n",
       "      <td>1910635</td>\n",
       "    </tr>\n",
       "  </tbody>\n",
       "</table>\n",
       "</div>"
      ],
      "text/plain": [
       "   Student ID       student_name gender grade        school_name  \\\n",
       "0           0       Paul Bradley      M   9th  Huang High School   \n",
       "1           1       Victor Smith      M  12th  Huang High School   \n",
       "2           2    Kevin Rodriguez      M  12th  Huang High School   \n",
       "3           3  Dr. Richard Scott      M  12th  Huang High School   \n",
       "4           4         Bonnie Ray      F   9th  Huang High School   \n",
       "\n",
       "   reading_score  math_score  School ID      type  size   budget  \n",
       "0             66          79          0  District  2917  1910635  \n",
       "1             94          61          0  District  2917  1910635  \n",
       "2             90          60          0  District  2917  1910635  \n",
       "3             67          58          0  District  2917  1910635  \n",
       "4             97          84          0  District  2917  1910635  "
      ]
     },
     "execution_count": 33,
     "metadata": {},
     "output_type": "execute_result"
    }
   ],
   "source": [
    "school_data_complete.head()"
   ]
  },
  {
   "cell_type": "code",
   "execution_count": 34,
   "metadata": {},
   "outputs": [
    {
     "data": {
      "text/plain": [
       "Student ID       39170\n",
       "student_name     39170\n",
       "gender           39170\n",
       "grade            39170\n",
       "school_name      39170\n",
       "reading_score    39170\n",
       "math_score       39170\n",
       "School ID        39170\n",
       "type             39170\n",
       "size             39170\n",
       "budget           39170\n",
       "dtype: int64"
      ]
     },
     "execution_count": 34,
     "metadata": {},
     "output_type": "execute_result"
    }
   ],
   "source": [
    "clean_budget_df = school_data_complete.dropna(how=\"any\")\n",
    "clean_budget_df.count()"
   ]
  },
  {
   "cell_type": "code",
   "execution_count": 35,
   "metadata": {},
   "outputs": [
    {
     "name": "stdout",
     "output_type": "stream",
     "text": [
      "39170\n"
     ]
    },
    {
     "data": {
      "text/html": [
       "<div>\n",
       "<style scoped>\n",
       "    .dataframe tbody tr th:only-of-type {\n",
       "        vertical-align: middle;\n",
       "    }\n",
       "\n",
       "    .dataframe tbody tr th {\n",
       "        vertical-align: top;\n",
       "    }\n",
       "\n",
       "    .dataframe thead th {\n",
       "        text-align: right;\n",
       "    }\n",
       "</style>\n",
       "<table border=\"1\" class=\"dataframe\">\n",
       "  <thead>\n",
       "    <tr style=\"text-align: right;\">\n",
       "      <th></th>\n",
       "      <th>Average Math Score</th>\n",
       "      <th>Average Reading Score</th>\n",
       "      <th>Overall Average Score</th>\n",
       "      <th>Passing Math Percent</th>\n",
       "      <th>Passing Reading Percent</th>\n",
       "      <th>Total Budget ($)</th>\n",
       "      <th>Total Schools</th>\n",
       "      <th>Total Students</th>\n",
       "    </tr>\n",
       "  </thead>\n",
       "  <tbody>\n",
       "    <tr>\n",
       "      <th>0</th>\n",
       "      <td>78.985371</td>\n",
       "      <td>81.87784</td>\n",
       "      <td>80.431606</td>\n",
       "      <td>74.980853</td>\n",
       "      <td>74.980853</td>\n",
       "      <td>24649428</td>\n",
       "      <td>15</td>\n",
       "      <td>39170</td>\n",
       "    </tr>\n",
       "  </tbody>\n",
       "</table>\n",
       "</div>"
      ],
      "text/plain": [
       "   Average Math Score  Average Reading Score  Overall Average Score  \\\n",
       "0           78.985371               81.87784              80.431606   \n",
       "\n",
       "   Passing Math Percent  Passing Reading Percent  Total Budget ($)  \\\n",
       "0             74.980853                74.980853          24649428   \n",
       "\n",
       "   Total Schools  Total Students  \n",
       "0             15           39170  "
      ]
     },
     "execution_count": 35,
     "metadata": {},
     "output_type": "execute_result"
    }
   ],
   "source": [
    "#Calculate the total number of schools\n",
    "unique_school=school_data_complete[\"school_name\"].unique()\n",
    "total_schools=len(unique_school)\n",
    "\n",
    "#Calculate the total number of students\n",
    "total_students=len(school_data_complete[\"student_name\"])\n",
    "print(total_students)\n",
    "\n",
    "#Calculate the total budget\n",
    "unique_budget=school_data_complete[\"budget\"].unique()\n",
    "total_budget=sum(unique_budget)\n",
    "\n",
    "#Calculate the average math score\n",
    "average_math_score=school_data_complete[\"math_score\"].mean()\n",
    "\n",
    "#Calculate the average reading score\n",
    "average_reading_score=school_data_complete[\"reading_score\"].mean()\n",
    "\n",
    "#Calculate the overall passing rate (overall average score), i.e. (avg. math score + avg. reading score)/2\n",
    "average_overall=(average_math_score+average_reading_score)/2\n",
    "\n",
    "#Calculate the percentage of students with a passing math score (70 or greater)\n",
    "passing_math=school_data_complete.loc[school_data_complete[\"math_score\"]>=70, :]\n",
    "passing_math_num=len(passing_math)\n",
    "passing_math_percent=(passing_math_num/total_students)*100\n",
    "\n",
    "#Calculate the percentage of students with a passing reading score (70 or greater)\n",
    "passing_reading=school_data_complete.loc[school_data_complete[\"reading_score\"]>=70, :]\n",
    "passing_reading_num=len(passing_reading)\n",
    "passing_reading_percent=(passing_math_num/total_students)*100\n",
    "\n",
    "#Create a dataframe to hold the above results\n",
    "district_summary= [\n",
    "    {\"Total Schools\": total_schools,\n",
    "     \"Total Students\": total_students,\n",
    "     \"Total Budget ($)\": total_budget,\n",
    "     \"Average Math Score\": average_math_score,\n",
    "     \"Average Reading Score\": average_reading_score,\n",
    "     \"Overall Average Score\": average_overall,\n",
    "     \"Passing Math Percent\": passing_math_percent,\n",
    "     \"Passing Reading Percent\": passing_reading_percent\n",
    "    }\n",
    "]\n",
    "summary_df=pd.DataFrame(district_summary)\n",
    "summary_df"
   ]
  },
  {
   "cell_type": "code",
   "execution_count": 48,
   "metadata": {},
   "outputs": [
    {
     "name": "stdout",
     "output_type": "stream",
     "text": [
      "school_name\n",
      "Bailey High School        590.233119\n",
      "Cabrera High School      1580.731970\n",
      "Figueroa High School      995.930824\n",
      "Ford High School         1072.289157\n",
      "Griffin High School      2000.681199\n",
      "Hernandez High School     633.656958\n",
      "Holden High School       6878.220141\n",
      "Huang High School        1006.856359\n",
      "Johnson High School       616.887209\n",
      "Pena High School         3053.014553\n",
      "Rodriguez High School     734.433608\n",
      "Shelton High School      1667.802385\n",
      "Thomas High School       1796.330275\n",
      "Wilson High School       1286.465177\n",
      "Wright High School       1631.666667\n",
      "Name: student_name, dtype: float64\n"
     ]
    }
   ],
   "source": [
    "#School Name\n",
    "unique=school_data_complete[\"school_name\"].unique()\n",
    "unique\n",
    "\n",
    "#School Type\n",
    "school_type=school_data_complete.groupby(\"type\")[\"school_name\"].head()\n",
    "\n",
    "#Total Students\n",
    "total_students=school_data_complete.groupby(\"school_name\")[\"student_name\"].count()\n",
    "\n",
    "#Total School Budget\n",
    "\n",
    "#Per Student Budget\n",
    "\n",
    "#Average Math Score\n",
    "average_math_score=school_data_complete.groupby(\"school_name\")[\"math_score\"].mean()\n",
    "\n",
    "#Average Reading score\n",
    "average_reading_score=school_data_complete.groupby(\"school_name\")[\"reading_score\"].mean()\n",
    "\n",
    "#% Passing Math\n",
    "passing_math=school_data_complete.loc[school_data_complete[\"math_score\"]>=70, :]\n",
    "passing_math_num=len(passing_math)\n",
    "passing_math_percent=(passing_math_num/total_students)*100\n",
    "print(passing_math_percent)\n",
    "\n",
    "#% Passing Reading\n",
    "\n",
    "#Overall Passing Rate (Average of the above two)]\\\n",
    "\n",
    "\n",
    "\n",
    "\n"
   ]
  },
  {
   "cell_type": "code",
   "execution_count": 45,
   "metadata": {},
   "outputs": [],
   "source": [
    "#Top Performing Schools (By Passing Rate)\n",
    "#Sort and display the top five schools in overall passing rate"
   ]
  },
  {
   "cell_type": "code",
   "execution_count": 46,
   "metadata": {},
   "outputs": [],
   "source": [
    "#Bottom Performing Schools (By Passing Rate)\n",
    "#Sort and display the five worst performing schools"
   ]
  },
  {
   "cell_type": "code",
   "execution_count": 49,
   "metadata": {},
   "outputs": [],
   "source": [
    "#Create a table that lists the average Math Score for students of each grade level (9th, 10th, 11th, 12th) at each school.\n",
    "    #Create a pandas series for each grade. Hint: use a conditional statement.\n",
    "    #Group each series by school\n",
    "    #Combine the series into a dataframe\n",
    "    #Optional: give the displayed data cleaner formatting"
   ]
  },
  {
   "cell_type": "code",
   "execution_count": 50,
   "metadata": {},
   "outputs": [],
   "source": [
    "#Create a table that lists the average Math Score for students of each grade level (9th, 10th, 11th, 12th) at each school.\n",
    "    #Create a pandas series for each grade. Hint: use a conditional statement.\n",
    "    #Group each series by school\n",
    "    #Combine the series into a dataframe\n",
    "    #Optional: give the displayed data cleaner formatting"
   ]
  },
  {
   "cell_type": "code",
   "execution_count": 51,
   "metadata": {},
   "outputs": [],
   "source": [
    "#Scores by School Spending\n",
    "#Create a table that breaks down school performances based on average Spending Ranges (Per Student). Use 4 reasonable bins to group school spending. Include in the table each of the following:\n",
    "    #Average Math Score\n",
    "    #Average Reading Score\n",
    "    #% Passing Math\n",
    "    #% Passing Reading\n",
    "    #Overall Passing Rate (Average of the above two)"
   ]
  },
  {
   "cell_type": "code",
   "execution_count": 52,
   "metadata": {},
   "outputs": [],
   "source": [
    "#Scores by School Size\n",
    "#Create a table that breaks down school performances based on average School Size (Per Student). Use 4 reasonable bins to group school spending. Include in the table each of the following:\n",
    "    #Average Math Score\n",
    "    #Average Reading Score\n",
    "    #% Passing Math\n",
    "    #% Passing Reading\n",
    "    #Overall Passing Rate (Average of the above two)"
   ]
  },
  {
   "cell_type": "code",
   "execution_count": null,
   "metadata": {},
   "outputs": [],
   "source": [
    "#Scores by School Type\n",
    "#Create a table that breaks down school performances based on average School Type (Per Student). Use 4 reasonable bins to group school spending. Include in the table each of the following:\n",
    "    #Average Math Score\n",
    "    #Average Reading Score\n",
    "    #% Passing Math\n",
    "    #% Passing Reading\n",
    "    #Overall Passing Rate (Average of the above two)"
   ]
  }
 ],
 "metadata": {
  "kernelspec": {
   "display_name": "Python [conda env:PythonData]",
   "language": "python",
   "name": "conda-env-PythonData-py"
  },
  "language_info": {
   "codemirror_mode": {
    "name": "ipython",
    "version": 3
   },
   "file_extension": ".py",
   "mimetype": "text/x-python",
   "name": "python",
   "nbconvert_exporter": "python",
   "pygments_lexer": "ipython3",
   "version": "3.6.5"
  }
 },
 "nbformat": 4,
 "nbformat_minor": 2
}
